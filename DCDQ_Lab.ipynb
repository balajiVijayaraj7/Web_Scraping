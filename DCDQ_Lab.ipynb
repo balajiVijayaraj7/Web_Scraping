{
 "cells": [
  {
   "cell_type": "markdown",
   "metadata": {
    "id": "5-lobKwejyrE"
   },
   "source": [
    "#Task_1"
   ]
  },
  {
   "cell_type": "code",
   "execution_count": 1,
   "metadata": {
    "id": "HsEnS6voYMcN"
   },
   "outputs": [],
   "source": [
    "import requests\n",
    "from bs4 import BeautifulSoup"
   ]
  },
  {
   "cell_type": "code",
   "execution_count": 2,
   "metadata": {
    "id": "ghgs5PktevIi"
   },
   "outputs": [],
   "source": [
    "# Desktop user-agent\n",
    "USER_AGENT = \"Mozilla/5.0 (Macintosh; Intel Mac OS X 10.14; rv:65.0) Gecko/20100101 Firefox/65.0\"\n"
   ]
  },
  {
   "cell_type": "code",
   "execution_count": 3,
   "metadata": {
    "id": "pnwMauabYG1E"
   },
   "outputs": [],
   "source": [
    "\n",
    "def scrape_headers_and_paragraphs(url, output_file):\n",
    "    headers = {\"user-agent\": USER_AGENT}\n",
    "\n",
    "    try:\n",
    "        # Send a request to the provided URL with headers\n",
    "        response = requests.get(url, headers=headers)\n",
    "        response.raise_for_status()  # Raise an exception for HTTP errors\n",
    "\n",
    "        # Print the response status code\n",
    "        print(\"Response Status Code:\", response.status_code)\n",
    "\n",
    "        # Parse the HTML content\n",
    "        soup = BeautifulSoup(response.content, \"html.parser\")\n",
    "\n",
    "        # Find all <h1>, <h2>, <h3> tags\n",
    "        all_h_tags = soup.find_all([\"h1\"])\n",
    "        headers = [h_tag.text.strip() for h_tag in all_h_tags if h_tag.text.strip()]\n",
    "\n",
    "        # Find all <p> tags\n",
    "        all_p_tags = soup.find_all(\"p\")\n",
    "        paragraphs = [p_tag.text.strip() for p_tag in all_p_tags if p_tag.text.strip()]\n",
    "\n",
    "        # Write headers and paragraphs to the output file\n",
    "        with open(output_file, \"w\", encoding=\"utf-8\") as file:\n",
    "            file.write(\"Headers:\\n\")\n",
    "            file.writelines([f\"{header}\\n\" for header in headers])\n",
    "\n",
    "            file.write(\"\\nParagraphs:\\n\")\n",
    "            file.writelines([f\"{paragraph}\\n\" for paragraph in paragraphs])\n",
    "\n",
    "        # Print a message about where the results were saved\n",
    "        print(f\"Results saved to {output_file}\")\n",
    "\n",
    "        return headers, paragraphs\n",
    "\n",
    "    except requests.exceptions.RequestException as e:\n",
    "        print(f\"Error: {e}\")\n",
    "        return [], []\n"
   ]
  },
  {
   "cell_type": "code",
   "execution_count": 4,
   "metadata": {
    "id": "M6zTYD3Gh3Hg"
   },
   "outputs": [],
   "source": [
    "def read_and_print_file_contents(file_name):\n",
    "    try:\n",
    "        with open(file_name, \"r\", encoding=\"utf-8\") as file:\n",
    "            file_contents = file.read()\n",
    "            print(file_contents)\n",
    "    except FileNotFoundError:\n",
    "        print(f\"The file {file_name} was not found.\")\n",
    "    except Exception as e:\n",
    "        print(f\"An error occurred: {e}\")\n"
   ]
  },
  {
   "cell_type": "code",
   "execution_count": 5,
   "metadata": {
    "colab": {
     "base_uri": "https://localhost:8080/"
    },
    "id": "TJdZV2Fwh7CH",
    "outputId": "a6f75ce9-4891-4d5a-939f-47c3ac07a743"
   },
   "outputs": [
    {
     "name": "stdout",
     "output_type": "stream",
     "text": [
      "Response Status Code: 200\n",
      "Results saved to ML_info.txt\n",
      "Headers:\n",
      "Introduction to Deep Learning\n",
      "\n",
      "Paragraphs:\n",
      "Deep learning is a branch of machine learning which is based on artificial neural networks. It is capable of learning complex patterns and relationships within data. In deep learning, we don’t need to explicitly program everything. It has become increasingly popular in recent years due to the advances in processing power and the availability of large datasets. Because it is based on artificial neural networks (ANNs) also known as deep neural networks (DNNs). These neural networks are inspired by the structure and function of the human brain’s biological neurons, and they are designed to learn from large amounts of data.\n",
      "In summary, Deep Learning is a subfield of Machine Learning that involves the use of deep neural networks to model and solve complex problems. Deep Learning has achieved significant success in various fields, and its use is expected to continue to grow as more data becomes available, and more powerful computing resources become available.\n",
      "Deep learning is the branch of machine learning which is based on artificial neural network architecture. An artificial neural network or ANN uses layers of interconnected nodes called neurons that work together to process and learn from the input data.\n",
      "In a fully connected Deep neural network, there is an input layer and one or more hidden layers connected one after the other. Each neuron receives input from the previous layer neurons or the input layer. The output of one neuron becomes the input to other neurons in the next layer of the network, and this process continues until the final layer produces the output of the network. The layers of the neural network transform the input data through a series of nonlinear transformations, allowing the network to learn complex representations of the input data.\n",
      "Today Deep learning has become one of the most popular and visible areas of machine learning, due to its success in a variety of applications, such as computer vision, natural language processing, and Reinforcement learning.\n",
      "Deep learning can be used for supervised, unsupervised as well as reinforcement machine learning. it uses a variety of ways to process these.\n",
      "Artificial neural networks are built on the principles of the structure and operation of human neurons. It is also known as neural networks or neural nets. An artificial neural network’s input layer, which is the first layer, receives input from external sources and passes it on to the hidden layer, which is the second layer. Each neuron in the hidden layer gets information from the neurons in the previous layer, computes the weighted total, and then transfers it to the neurons in the next layer. These connections are weighted, which means that the impacts of the inputs from the preceding layer are more or less optimized by giving each input a distinct weight. These weights are then adjusted during the training process to enhance the performance of the model.\n",
      "Fully Connected Artificial Neural Network\n",
      "Artificial neurons, also known as units, are found in artificial neural networks. The whole Artificial Neural Network is composed of these artificial neurons, which are arranged in a series of layers. The complexities of neural networks will depend on the complexities of the underlying patterns in the dataset whether a layer has a dozen units or millions of units.  Commonly, Artificial Neural Network has an input layer, an output layer as well as hidden layers. The input layer receives data from the outside world which the neural network needs to analyze or learn about.\n",
      "In a fully connected artificial neural network, there is an input layer and one or more hidden layers connected one after the other. Each neuron receives input from the previous layer neurons or the input layer. The output of one neuron becomes the input to other neurons in the next layer of the network, and this process continues until the final layer produces the output of the network. Then, after passing through one or more hidden layers, this data is transformed into valuable data for the output layer. Finally, the output layer provides an output in the form of an artificial neural network’s response to the data that comes in.\n",
      "Units are linked to one another from one layer to another in the bulk of neural networks. Each of these links has weights that control how much one unit influences another. The neural network learns more and more about the data as it moves from one unit to another, ultimately producing an output from the output layer.\n",
      "machine learning and deep learning both are subsets of artificial intelligence but there are many similarities and differences between them.\n",
      "Machine Learning\n",
      "Deep Learning\n",
      "Deep Learning models are able to automatically learn features from the data, which makes them well-suited for tasks such as image recognition, speech recognition, and natural language processing. The most widely used architectures in deep learning are feedforward neural networks, convolutional neural networks (CNNs), and recurrent neural networks (RNNs).\n",
      "Feedforward neural networks (FNNs) are the simplest type of ANN, with a linear flow of information through the network. FNNs have been widely used for tasks such as image classification, speech recognition, and natural language processing.\n",
      "Convolutional Neural Networks (CNNs) are specifically for image and video recognition tasks. CNNs are able to automatically learn features from the images, which makes them well-suited for tasks such as image classification, object detection, and image segmentation.\n",
      "Recurrent Neural Networks (RNNs) are a type of neural network that is able to process sequential data, such as time series and natural language. RNNs are able to maintain an internal state that captures information about the previous inputs, which makes them well-suited for tasks such as speech recognition, natural language processing, and language translation.\n",
      "The main applications of deep learning can be divided into computer vision, natural language processing (NLP), and reinforcement learning.\n",
      "In computer vision, Deep learning models can enable machines to identify and understand visual data. Some of the main applications of deep learning in computer vision include:\n",
      "In NLP, the  Deep learning model can enable machines to understand and generate human language. Some of the main applications of deep learning in NLP include:\n",
      "In reinforcement learning, deep learning works as training agents to take action in an environment to maximize a reward. Some of the main applications of deep learning in reinforcement learning include:\n",
      "Deep learning has made significant advancements in various fields, but there are still some challenges that need to be addressed. Here are some of the main challenges in deep learning:\n",
      "S\n",
      "\n"
     ]
    }
   ],
   "source": [
    "\n",
    "url = \"https://www.geeksforgeeks.org/introduction-deep-learning/\"\n",
    "\n",
    "output_file = \"ML_info.txt\"\n",
    "\n",
    "scrape_headers_and_paragraphs(url, output_file)\n",
    "\n",
    "read_and_print_file_contents(output_file)"
   ]
  },
  {
   "cell_type": "code",
   "execution_count": 6,
   "metadata": {
    "colab": {
     "base_uri": "https://localhost:8080/"
    },
    "id": "c2uq7nyhaSJx",
    "outputId": "3e034811-ff4f-4098-aa37-9a92aa47ab04"
   },
   "outputs": [
    {
     "name": "stdout",
     "output_type": "stream",
     "text": [
      "Response Status Code: 200\n",
      "Results saved to AI_info.txt\n",
      "Headers:\n",
      "artificial intelligence (AI)\n",
      "\n",
      "Paragraphs:\n",
      "Artificial intelligence is the simulation of human intelligence processes by machines, especially computer systems. Specific applications of AI include expert systems, natural language processing, speech recognition and machine vision.\n",
      "As the hype around AI has accelerated, vendors have been scrambling to promote how their products and services use it. Often, what they refer to as AI is simply a component of the technology, such as machine learning. AI requires a foundation of specialized hardware and software for writing and training machine learning algorithms. No single programming language is synonymous with AI, but Python, R, Java, C++ and Julia have features popular with AI developers.\n",
      "In general, AI systems work by ingesting large amounts of labeled training data, analyzing the data for correlations and patterns, and using these patterns to make predictions about future states. In this way, a chatbot that is fed examples of text can learn to generate lifelike exchanges with people, or an image recognition tool can learn to identify and describe objects in images by reviewing millions of examples. New, rapidly improving generative AI techniques can create realistic text, images, music and other media.\n",
      "AI programming focuses on cognitive skills that include the following:\n",
      "AI, machine learning and deep learning are common terms in enterprise IT and sometimes used interchangeably, especially by companies in their marketing materials. But there are distinctions. The term AI, coined in the 1950s, refers to the simulation of human intelligence by machines. It covers an ever-changing set of capabilities as new technologies are developed. Technologies that come under the umbrella of AI include machine learning and deep learning.\n",
      "Machine learning enables software applications to become more accurate at predicting outcomes without being explicitly programmed to do so. Machine learning algorithms use historical data as input to predict new output values. This approach became vastly more effective with the rise of large data sets to train on. Deep learning, a subset of machine learning, is based on our understanding of how the brain is structured. Deep learning's use of artificial neural networks structure is the underpinning of recent advances in AI, including self-driving cars and ChatGPT.\n",
      "AI is important for its potential to change how we live, work and play. It has been effectively used in business to automate tasks done by humans, including customer service work, lead generation, fraud detection and quality control. In a number of areas, AI can perform tasks much better than humans. Particularly when it comes to repetitive, detail-oriented tasks, such as analyzing large numbers of legal documents to ensure relevant fields are filled in properly, AI tools often complete jobs quickly and with relatively few errors. Because of the massive data sets it can process, AI can also give enterprises insights into their operations they might not have been aware of. The rapidly expanding population of generative AI tools will be important in fields ranging from education and marketing to product design.\n",
      "This article is part of\n",
      "Download this entire guide for FREE now!\n",
      "Indeed, advances in AI techniques have not only helped fuel an explosion in efficiency, but opened the door to entirely new business opportunities for some larger enterprises. Prior to the current wave of AI, it would have been hard to imagine using computer software to connect riders to taxis, but Uber has become a Fortune 500 company by doing just that.\n",
      "AI has become central to many of today's largest and most successful companies, including Alphabet, Apple, Microsoft and Meta, where AI technologies are used to improve operations and outpace competitors. At Alphabet subsidiary Google, for example, AI is central to its search engine, Waymo's self-driving cars and Google Brain, which invented the transformer neural network architecture that underpins the recent breakthroughs in natural language processing.\n",
      "Artificial neural networks and deep learning AI technologies are quickly evolving, primarily because AI can process large amounts of data much faster and make predictions more accurately than humanly possible.\n",
      "While the huge volume of data created on a daily basis would bury a human researcher, AI applications using machine learning can take that data and quickly turn it into actionable information. As of this writing, a primary disadvantage of AI is that it is expensive to process the large amounts of data AI programming requires. As AI techniques are incorporated into more products and services, organizations must also be attuned to AI's potential to create biased and discriminatory systems, intentionally or inadvertently.\n",
      "The following are some advantages of AI.\n",
      "The following are some disadvantages of AI.\n",
      "AI can be categorized as weak or strong.\n",
      "Arend Hintze, an assistant professor of integrative biology and computer science and engineering at Michigan State University, explained that AI can be categorized into four types, beginning with the task-specific intelligent systems in wide use today and progressing to sentient systems, which do not yet exist. The categories are as follows.\n",
      "AI is incorporated into a variety of different types of technology. Here are seven examples.\n",
      "Automation. When paired with AI technologies, automation tools can expand the volume and types of tasks performed. An example is robotic process automation (RPA), a type of software that automates repetitive, rules-based data processing tasks traditionally done by humans. When combined with machine learning and emerging AI tools, RPA can automate bigger portions of enterprise jobs, enabling RPA's tactical bots to pass along intelligence from AI and respond to process changes.\n",
      "Machine learning. This is the science of getting a computer to act without programming. Deep learning is a subset of machine learning that, in very simple terms, can be thought of as the automation of predictive analytics. There are three types of machine learning algorithms:\n",
      "Machine vision. This technology gives a machine the ability to see. Machine vision captures and analyzes visual information using a camera, analog-to-digital conversion and digital signal processing. It is often compared to human eyesight, but machine vision isn't bound by biology and can be programmed to see through walls, for example. It is used in a range of applications from signature identification to medical image analysis. Computer vision, which is focused on machine-based image processing, is often conflated with machine vision.\n",
      "Natural language processing (NLP). This is the processing of human language by a computer program. One of the older and best-known examples of NLP is spam detection, which looks at the subject line and text of an email and decides if it's junk. Current approaches to NLP are based on machine learning. NLP tasks include text translation, sentiment analysis and speech recognition.\n",
      "Robotics. This field of engineering focuses on the design and manufacturing of robots. Robots are often used to perform tasks that are difficult for humans to perform or perform consistently. For example, robots are used in car production assembly lines or by NASA to move large objects in space. Researchers also use machine learning to build robots that can interact in social settings.\n",
      "Self-driving cars. Autonomous vehicles use a combination of computer vision, image recognition and deep learning to build automated skills to pilot a vehicle while staying in a given lane and avoiding unexpected obstructions, such as pedestrians.\n",
      "Text, image and audio generation. Generative AI techniques, which create various types of media from text prompts, are being applied extensively across businesses to create a seemingly limitless range of content types from photorealistic art to email responses and screenplays.\n",
      "Artificial intelligence has made its way into a wide variety of markets. Here are 11 examples.\n",
      "AI in healthcare. The biggest bets are on improving patient outcomes and reducing costs. Companies are applying machine learning to make better and faster medical diagnoses than humans. One of the best-known healthcare technologies is IBM Watson. It understands natural language and can respond to questions asked of it. The system mines patient data and other available data sources to form a hypothesis, which it then presents with a confidence scoring schema. Other AI applications include using online virtual health assistants and chatbots to help patients and healthcare customers find medical information, schedule appointments, understand the billing process and complete other administrative processes. An array of AI technologies is also being used to predict, fight and understand pandemics such as COVID-19.\n",
      "AI in business. Machine learning algorithms are being integrated into analytics and customer relationship management (CRM) platforms to uncover information on how to better serve customers. Chatbots have been incorporated into websites to provide immediate service to customers. The rapid advancement of generative AI technology such as ChatGPT is expected to have far-reaching consequences: eliminating jobs, revolutionizing product design and disrupting business models.\n",
      "AI in education. AI can automate grading, giving educators more time for other tasks. It can assess students and adapt to their needs, helping them work at their own pace. AI tutors can provide additional support to students, ensuring they stay on track. The technology could also change where and how students learn, perhaps even replacing some teachers. As demonstrated by ChatGPT, Bard and other large language models, generative AI can help educators craft course work and other teaching materials and engage students in new ways. The advent of these tools also forces educators to rethink student homework and testing and revise policies on plagiarism.\n",
      "AI in finance. AI in personal finance applications, such as Intuit Mint or TurboTax, is disrupting financial institutions. Applications such as these collect personal data and provide financial advice. Other programs, such as IBM Watson, have been applied to the process of buying a home. Today, artificial intelligence software performs much of the trading on Wall Street.\n",
      "AI in law. The discovery process -- sifting through documents -- in law is often overwhelming for humans. Using AI to help automate the legal industry's labor-intensive processes is saving time and improving client service. Law firms use machine learning to describe data and predict outcomes, computer vision to classify and extract information from documents, and NLP to interpret requests for information.\n",
      "AI in entertainment and media. The entertainment business uses AI techniques for targeted advertising, recommending content, distribution, detecting fraud, creating scripts and making movies. Automated journalism helps newsrooms streamline media workflows reducing time, costs and complexity. Newsrooms use AI to automate routine tasks, such as data entry and proofreading; and to research topics and assist with headlines. How journalism can reliably use ChatGPT and other generative AI to generate content is open to question.\n",
      "AI in software coding and IT processes. New generative AI tools can be used to produce application code based on natural language prompts, but it is early days for these tools and unlikely they will replace software engineers soon. AI is also being used to automate many IT processes, including data entry, fraud detection, customer service, and predictive maintenance and security.\n",
      "Security. AI and machine learning are at the top of the buzzword list security vendors use to market their products, so buyers should approach with caution. Still, AI techniques are being successfully applied to multiple aspects of cybersecurity, including anomaly detection, solving the false-positive problem and conducting behavioral threat analytics. Organizations use machine learning in security information and event management (SIEM) software and related areas to detect anomalies and identify suspicious activities that indicate threats. By analyzing data and using logic to identify similarities to known malicious code, AI can provide alerts to new and emerging attacks much sooner than human employees and previous technology iterations.\n",
      "AI in manufacturing. Manufacturing has been at the forefront of incorporating robots into the workflow. For example, the industrial robots that were at one time programmed to perform single tasks and separated from human workers, increasingly function as cobots: Smaller, multitasking robots that collaborate with humans and take on responsibility for more parts of the job in warehouses, factory floors and other workspaces.\n",
      "AI in banking. Banks are successfully employing chatbots to make their customers aware of services and offerings and to handle transactions that don't require human intervention. AI virtual assistants are used to improve and cut the costs of compliance with banking regulations. Banking organizations use AI to improve their decision-making for loans, set credit limits and identify investment opportunities.\n",
      "AI in transportation. In addition to AI's fundamental role in operating autonomous vehicles, AI technologies are used in transportation to manage traffic, predict flight delays, and make ocean shipping safer and more efficient. In supply chains, AI is replacing traditional methods of forecasting demand and predicting disruptions, a trend accelerated by COVID-19 when many companies were caught off guard by the effects of a global pandemic on the supply and demand of goods.\n",
      "Some industry experts have argued that the term artificial intelligence is too closely linked to popular culture, which has caused the general public to have improbable expectations about how AI will change the workplace and life in general. They have suggested using the term augmented intelligence to differentiate between AI systems that act autonomously -- popular culture examples include Hal 9000 and The Terminator -- and AI tools that support humans.\n",
      "While AI tools present a range of new functionality for businesses, the use of AI also raises ethical questions because, for better or worse, an AI system will reinforce what it has already learned.\n",
      "This can be problematic because machine learning algorithms, which underpin many of the most advanced AI tools, are only as smart as the data they are given in training. Because a human being selects what data is used to train an AI program, the potential for machine learning bias is inherent and must be monitored closely.\n",
      "Anyone looking to use machine learning as part of real-world, in-production systems needs to factor ethics into their AI training processes and strive to avoid bias. This is especially true when using AI algorithms that are inherently unexplainable in deep learning and generative adversarial network (GAN) applications.\n",
      "Explainability is a potential stumbling block to using AI in industries that operate under strict regulatory compliance requirements. For example, financial institutions in the United States operate under regulations that require them to explain their credit-issuing decisions. When a decision to refuse credit is made by AI programming, however, it can be difficult to explain how the decision was arrived at because the AI tools used to make such decisions operate by teasing out subtle correlations between thousands of variables. When the decision-making process cannot be explained, the program may be referred to as black box AI.\n",
      "In summary, AI's ethical challenges include the following: bias, due to improperly trained algorithms and human bias; misuse, due to deepfakes and phishing; legal concerns, including AI libel and copyright issues; elimination of jobs; and data privacy concerns, particularly in the banking, healthcare and legal fields.\n",
      "Despite potential risks, there are currently few regulations governing the use of AI tools, and where laws do exist, they typically pertain to AI indirectly. For example, as previously mentioned, U.S. Fair Lending regulations require financial institutions to explain credit decisions to potential customers. This limits the extent to which lenders can use deep learning algorithms, which by their nature are opaque and lack explainability.\n",
      "The European Union's General Data Protection Regulation (GDPR) is considering AI regulations. GDPR's strict limits on how enterprises can use consumer data already limits the training and functionality of many consumer-facing AI applications.\n",
      "Policymakers in the U.S. have yet to issue AI legislation, but that could change soon. A \"Blueprint for an AI Bill of Rights\" published in October 2022 by the White House Office of Science and Technology Policy (OSTP) guides businesses on how to implement ethical AI systems. The U.S. Chamber of Commerce also called for AI regulations in a report released in March 2023.\n",
      "Crafting laws to regulate AI will not be easy, in part because AI comprises a variety of technologies that companies use for different ends, and partly because regulations can come at the cost of AI progress and development. The rapid evolution of AI technologies is another obstacle to forming meaningful regulation of AI, as are the challenges presented by AI's lack of transparency that make it difficult to see how the algorithms reach their results. Moreover, technology breakthroughs and novel applications such as ChatGPT and Dall-E can make existing laws instantly obsolete. And, of course, the laws that governments do manage to craft to regulate AI don't stop criminals from using the technology with malicious intent.\n",
      "The concept of inanimate objects endowed with intelligence has been around since ancient times. The Greek god Hephaestus was depicted in myths as forging robot-like servants out of gold. Engineers in ancient Egypt built statues of gods animated by priests. Throughout the centuries, thinkers from Aristotle to the 13th century Spanish theologian Ramon Llull to René Descartes and Thomas Bayes used the tools and logic of their times to describe human thought processes as symbols, laying the foundation for AI concepts such as general knowledge representation.\n",
      "The late 19th and first half of the 20th centuries brought forth the foundational work that would give rise to the modern computer. In 1836, Cambridge University mathematician Charles Babbage and Augusta Ada King, Countess of Lovelace, invented the first design for a programmable machine.\n",
      "1940s. Princeton mathematician John Von Neumann conceived the architecture for the stored-program computer -- the idea that a computer's program and the data it processes can be kept in the computer's memory. And Warren McCulloch and Walter Pitts laid the foundation for neural networks.\n",
      "1950s. With the advent of modern computers, scientists could test their ideas about machine intelligence. One method for determining whether a computer has intelligence was devised by the British mathematician and World War II code-breaker Alan Turing. The Turing test focused on a computer's ability to fool interrogators into believing its responses to their questions were made by a human being.\n",
      "1956. The modern field of artificial intelligence is widely cited as starting this year during a summer conference at Dartmouth College. Sponsored by the Defense Advanced Research Projects Agency (DARPA), the conference was attended by 10 luminaries in the field, including AI pioneers Marvin Minsky, Oliver Selfridge and John McCarthy, who is credited with coining the term artificial intelligence. Also in attendance were Allen Newell, a computer scientist, and Herbert A. Simon, an economist, political scientist and cognitive psychologist. The two presented their groundbreaking Logic Theorist, a computer program capable of proving certain mathematical theorems and referred to as the first AI program.\n",
      "1950s and 1960s. In the wake of the Dartmouth College conference, leaders in the fledgling field of AI predicted that a man-made intelligence equivalent to the human brain was around the corner, attracting major government and industry support. Indeed, nearly 20 years of well-funded basic research generated significant advances in AI: For example, in the late 1950s, Newell and Simon published the General Problem Solver (GPS) algorithm, which fell short of solving complex problems but laid the foundations for developing more sophisticated cognitive architectures; and McCarthy developed Lisp, a language for AI programming still used today. In the mid-1960s, MIT Professor Joseph Weizenbaum developed ELIZA, an early NLP program that laid the foundation for today's chatbots.\n",
      "1970s and 1980s. The achievement of artificial general intelligence proved elusive, not imminent, hampered by limitations in computer processing and memory and by the complexity of the problem. Government and corporations backed away from their support of AI research, leading to a fallow period lasting from 1974 to 1980 known as the first \"AI Winter.\" In the 1980s, research on deep learning techniques and industry's adoption of Edward Feigenbaum's expert systems sparked a new wave of AI enthusiasm, only to be followed by another collapse of government funding and industry support. The second AI winter lasted until the mid-1990s.\n",
      "1990s. Increases in computational power and an explosion of data sparked an AI renaissance in the late 1990s that set the stage for the remarkable advances in AI we see today. The combination of big data and increased computational power propelled breakthroughs in NLP, computer vision, robotics, machine learning and deep learning. In 1997, as advances in AI accelerated, IBM's Deep Blue defeated Russian chess grandmaster Garry Kasparov, becoming the first computer program to beat a world chess champion.\n",
      "2000s. Further advances in machine learning, deep learning, NLP, speech recognition and computer vision gave rise to products and services that have shaped the way we live today. These include the 2000 launch of Google's search engine and the 2001 launch of Amazon's recommendation engine. Netflix developed its recommendation system for movies, Facebook introduced its facial recognition system and Microsoft launched its speech recognition system for transcribing speech into text. IBM launched Watson and Google started its self-driving initiative, Waymo.\n",
      "2010s. The decade between 2010 and 2020 saw a steady stream of AI developments. These include the launch of Apple's Siri and Amazon's Alexa voice assistants; IBM Watson's victories on Jeopardy; self-driving cars; the development of the first generative adversarial network; the launch of TensorFlow, Google's open source deep learning framework; the founding of research lab OpenAI, developers of the GPT-3 language model and Dall-E image generator; the defeat of world Go champion Lee Sedol by Google DeepMind's AlphaGo; and the implementation of AI-based systems that detect cancers with a high degree of accuracy.\n",
      "2020s. The current decade has seen the advent of generative AI, a type of artificial intelligence technology that can produce new content. Generative AI starts with a prompt that could be in the form of a text, an image, a video, a design, musical notes or any input that the AI system can process. Various AI algorithms then return new content in response to the prompt. Content can include essays, solutions to problems, or realistic fakes created from pictures or audio of a person. The abilities of language models such as ChatGPT-3, Google's Bard and Microsoft's Megatron-Turing NLG have wowed the world, but the technology is still in early stages, as evidenced by its tendency to hallucinate or skew answers.\n",
      "AI tools and services are evolving at a rapid rate. Current innovations in AI tools and services can be traced to the 2012 AlexNet neural network that ushered in a new era of high-performance AI built on GPUs and large data sets. The key change was the ability to train neural networks on massive amounts of data across multiple GPU cores in parallel in a more scalable way.\n",
      "Over the last several years, the symbiotic relationship between AI discoveries at Google, Microsoft, and OpenAI, and the hardware innovations pioneered by Nvidia have enabled running ever-larger AI models on more connected GPUs, driving game-changing improvements in performance and scalability.\n",
      "The collaboration among these AI luminaries was crucial for the recent success of ChatGPT, not to mention dozens of other breakout AI services. Here is a rundown of important innovations in AI tools and services.\n",
      "Transformers. Google, for example, led the way in finding a more efficient process for provisioning AI training across a large cluster of commodity PCs with GPUs. This paved the way for the discovery of transformers that automate many aspects of training AI on unlabeled data.\n",
      "Hardware optimization. Just as important, hardware vendors like Nvidia are also optimizing the microcode for running across multiple GPU cores in parallel for the most popular algorithms. Nvidia claimed the combination of faster hardware, more efficient AI algorithms, fine-tuning GPU instructions and better data center integration is driving a million-fold improvement in AI performance. Nvidia is also working with all cloud center providers to make this capability more accessible as AI-as-a-Service through IaaS, SaaS and PaaS models.\n",
      "Generative pre-trained transformers. The AI stack has also evolved rapidly over the last few years. Previously enterprises would have to train their AI models from scratch. Increasingly vendors such as OpenAI, Nvidia, Microsoft, Google, and others provide generative pre-trained transformers (GPTs), which can be fine-tuned for a specific task at a dramatically reduced cost, expertise and time. Whereas some of the largest models are estimated to cost $5 million to $10 million per run, enterprises can fine-tune the resulting models for a few thousand dollars. This results in faster time to market and reduces risk.\n",
      "AI cloud services. Among the biggest roadblocks that prevent enterprises from effectively using AI in their businesses are the data engineering and data science tasks required to weave AI capabilities into new apps or to develop new ones. All the leading cloud providers are rolling out their own branded AI as service offerings to streamline data prep, model development and application deployment. Top examples include AWS AI Services, Google Cloud AI, Microsoft Azure AI platform, IBM AI solutions and Oracle Cloud Infrastructure AI Services.\n",
      "Cutting-edge AI models as a service. Leading AI model developers also offer cutting-edge AI models on top of these cloud services. OpenAI has dozens of large language models optimized for chat, NLP, image generation and code generation that are provisioned through Azure. Nvidia has pursued a more cloud-agnostic approach by selling AI infrastructure and foundational models optimized for text, images and medical data available across all cloud providers. Hundreds of other players are offering models customized for various industries and use cases as well.\n",
      "George Lawton also contributed to this article.\n",
      "The longtime analytics vendor's suite incorporates LLM technology to make users more efficient by enabling them to use natural ...\n",
      "Compose SDK for Fusion is a composable set of APIs that enable developers to build customized advanced analytics applications to ...\n",
      "After holding off on integrating with LLMs until it could ensure data security and accurate outcomes, the vendor is making ...\n",
      "The FTC and DOJ, which enforce U.S. antitrust law, are focused on reining in big tech through antitrust lawsuits and revising ...\n",
      "Quantum computing may be coming to the enterprise. Here's what to understand about the benefits it promises, the risks it poses ...\n",
      "To avoid business problems and operate effectively, companies need to be ready to deal with these common types of risks as part ...\n",
      "A new service enables users to easily deploy privately built language models and uses a GPU-based architecture to optimize and ...\n",
      "The iPaaS vendor's new capabilities are aimed at increasing efficiency by enabling customers to build pipelines and manage data ...\n",
      "The acquisition will give users more visibility into generative AI and LLM pipelines in addition to the traditional data ...\n",
      "ERP vendors are rapidly introducing new AI functionality, but experts caution against the hype and advise using the ...\n",
      "PLM and PDM software may seem similar, but they fulfill different needs for manufacturers. Learn the differences and which is ...\n",
      "TechTarget editors analyze recent major introductions of generative AI products from Oracle, Salesforce and SAP.\n",
      "All Rights Reserved, \n",
      "Copyright 2018 - 2023, TechTarget\n",
      "\n",
      "\n",
      "Privacy Policy\n",
      "\n",
      "\n",
      "\n",
      "Cookie Preferences \n",
      "\n",
      "\n",
      "\n",
      "Cookie Preferences \n",
      "\n",
      "\n",
      "\n",
      "Do Not Sell or Share My Personal Information\n",
      "\n"
     ]
    }
   ],
   "source": [
    "url = \"https://www.techtarget.com/searchenterpriseai/definition/AI-Artificial-Intelligence\"\n",
    "\n",
    "output_file = \"AI_info.txt\"\n",
    "\n",
    "scrape_headers_and_paragraphs(url, output_file)\n",
    "\n",
    "read_and_print_file_contents(output_file)"
   ]
  },
  {
   "cell_type": "markdown",
   "metadata": {
    "id": "M3mfYkhej21P"
   },
   "source": [
    "#Task_2"
   ]
  },
  {
   "cell_type": "code",
   "execution_count": 7,
   "metadata": {
    "id": "LLFsOQP52ddg"
   },
   "outputs": [],
   "source": [
    "import requests\n",
    "from bs4 import BeautifulSoup\n",
    "import csv\n"
   ]
  },
  {
   "cell_type": "code",
   "execution_count": 8,
   "metadata": {
    "id": "yF2PLGMNLUw5"
   },
   "outputs": [],
   "source": [
    "# desktop user-agent\n",
    "USER_AGENT = \"Mozilla/5.0 (Macintosh; Intel Mac OS X 10.14; rv:65.0) Gecko/20100101 Firefox/65.0\"\n",
    "headers = {\"user-agent\": USER_AGENT}"
   ]
  },
  {
   "cell_type": "code",
   "execution_count": 9,
   "metadata": {
    "id": "RwE69CAejwOx"
   },
   "outputs": [],
   "source": [
    "\n",
    "def scrape_amazon_product_details(search_url, csv_file):\n",
    "    try:\n",
    "        # Send a request to the Amazon search page\n",
    "        response = requests.get(search_url, headers=headers)\n",
    "        response.raise_for_status()  # Raise an exception for HTTP errors\n",
    "\n",
    "        # Parse the HTML content\n",
    "        soup = BeautifulSoup(response.content, \"html.parser\")\n",
    "\n",
    "        # Find all product containers on the page \n",
    "        product_containers = soup.find_all(\"div\", class_=\"s-card-container s-overflow-hidden aok-relative puis-expand-height puis-include-content-margin puis puis-v20azwp0smsgc01ytmkntf1rk7n s-latency-cf-section s-card-border\")\n",
    "\n",
    "        # Initialize a list to store product details\n",
    "        product_details = []\n",
    "\n",
    "        # Iterate through the product containers\n",
    "        for container in product_containers:\n",
    "            # Extract the product name \n",
    "            product_name_element = container.find(\"span\", class_=\"a-size-base-plus a-color-base a-text-normal\")\n",
    "            product_name = product_name_element.text.strip() if product_name_element else \"N/A\"\n",
    "\n",
    "            # Extract the product cost \n",
    "            product_cost_element = container.find(\"span\", class_=\"a-price-whole\")\n",
    "            product_cost_text = product_cost_element.text.strip() if product_cost_element else \"N/A\"\n",
    "\n",
    "            # Clean the product cost string\n",
    "            cleaned_cost = ''.join(filter(str.isdigit, product_cost_text))\n",
    "            product_cost = int(cleaned_cost) if cleaned_cost else \"N/A\"\n",
    "\n",
    "            # Append product details to the list\n",
    "            product_details.append([product_name, product_cost])\n",
    "\n",
    "        # Write product details to a CSV file\n",
    "        with open(csv_file, mode='w', newline='', encoding='utf-8') as file:\n",
    "            writer = csv.writer(file)\n",
    "            writer.writerow(['Product Name', 'Product Cost'])  # Write header row\n",
    "            writer.writerows(product_details)  # Write product details\n",
    "\n",
    "        print(f\"Product details saved to {csv_file}\")\n",
    "\n",
    "    except requests.exceptions.RequestException as e:\n",
    "        print(f\"Error: {e}\")\n",
    "    except Exception as e:\n",
    "        print(f\"An error occurred: {e}\")\n",
    "\n"
   ]
  },
  {
   "cell_type": "code",
   "execution_count": null,
   "metadata": {
    "colab": {
     "base_uri": "https://localhost:8080/"
    },
    "id": "7dUvPuPRLgro",
    "outputId": "2d02fbb2-db5d-4141-c7ae-c3797bd072cd"
   },
   "outputs": [],
   "source": [
    "search_url = \"https://www.amazon.se/s?k=iphone+15&crid=16B0IZHISGY2U&sprefix=iphone%2Caps%2C157&ref=nb_sb_ss_ts-doa-p_4_6\"\n",
    "output_csv = \"amazon_product_details.csv\"\n",
    "scrape_amazon_product_details(search_url, output_csv)"
   ]
  },
  {
   "cell_type": "code",
   "execution_count": 10,
   "metadata": {
    "id": "Nmj4KvelLwqZ"
   },
   "outputs": [],
   "source": [
    "def read_and_print_csv(file_name):\n",
    "    try:\n",
    "        with open(file_name, mode='r', encoding='utf-8') as file:\n",
    "            reader = csv.reader(file)\n",
    "\n",
    "            # Read and print header row\n",
    "            header = next(reader)\n",
    "            print(' | '.join(header))\n",
    "            print('-' * 50)\n",
    "\n",
    "            # Read and print each row in the CSV file\n",
    "            for row in reader:\n",
    "                print(' | '.join(row))\n",
    "\n",
    "    except FileNotFoundError:\n",
    "        print(f\"The file {file_name} was not found.\")\n",
    "    except Exception as e:\n",
    "        print(f\"An error occurred: {e}\")\n",
    "\n",
    "\n"
   ]
  },
  {
   "cell_type": "code",
   "execution_count": 11,
   "metadata": {
    "id": "Gm5NrVTQMgsk"
   },
   "outputs": [
    {
     "name": "stdout",
     "output_type": "stream",
     "text": [
      "Product Name | Product Cost\n",
      "--------------------------------------------------\n",
      "Apple iPhone 15 (256 GB) - svart | 13495\n",
      "Apple iPhone 15 Pro (128 GB) - svart titan | 14995\n",
      "Apple iPhone 15 Pro Max (512 GB) - svart titan | 20995\n",
      "Apple iPhone 15 Plus (128 GB) - blå | 13495\n",
      "Apple iPhone 15 (256 GB) - blå | 13490\n",
      "Apple iPhone 15 Pro (256 GB) - naturligt titan | 16490\n",
      "Apple iPhone 15 Plus (128 GB) - svart | 13490\n",
      "Apple iPhone 15 Pro Max (512 GB) - svart titan | 20995\n",
      "Apple iPhone 14 Pro Max (256 GB) - djuplila | 16490\n",
      "Spigen Ultra Hybrid Frost MagFit Fodral kompatibel med iPhone 15 Pro -Svart | 321\n",
      "Apple iPhone 12 Pro, 128GB, Pacific Blå (Renoverad) | 8199\n",
      "Apple FineWoven-skal med MagSafe till iPhone 15 Pro – svart ​​​​​​​ | 895\n",
      "memumi Real Carbon Fiber-fodral för iPhone 15 Pro, 0,5 mm Supertunt och slitstarkt kolfodral [100% aramidfiber] med fallskydd av militärklass för iPhone 15 Pro -Svart | 539\n",
      "Apple Silikonskal med MagSafe till iPhone 15 – lera ​​​​​​​ | 695\n",
      "JETech Magnetisk Silikon Skal för iPhone 15 6,1 Tums, Kompatibelt med MagSafe, Telefonfodral med Full Kameralinsskydd (Rosa) | 149\n",
      "JETech 5 i 1 Fodral för iPhone 15 6,1 Tum med 2-Pack Skärmskydd i Härdat Glas och Kameralinsskydd, Lcke Gulnande Stötsäkert Buffert Mobiltelefonfodral (Klar) | 149\n",
      "JETech Skärmskydd för iPhone 15 Pro 6,1 Tum, Screen Protector Härdat Glas Film med Enkelt Installation Verktyg, Fodral Vänligt, HD Klar, 3 Pack | 99\n",
      "Spigen Liquid Air Fodral kompatibel med iPhone 15 Pro -Svart | 202\n",
      "JETech Privacy Skärmskydd för iPhone 15 Pro 6,1 Tum med Kameralinsskydd, Enkelt Installation Verktyg, Screen Protector Privat Härdat Glas Film, 2-Pack Varje | 149\n",
      "Spigen Glas.tR EZ Fit Skärmskydd kompatibel med iPhone 15 Pro, 2 Stycken, med Sjabloon voor Installatiem, Case friendly, 9H härdat glas | 244\n",
      "JETech Skärmskydd för iPhone 15 6,1 Tum med Kameralinsskydd, Enkelt Installation Verktyg, Screen Protector Härdat Glas Film, HD Klar, 2-Pack Varje | 129\n",
      "JETech Magnetisk Skal för iPhone 15 Pro 6,1 Tums Kompatibelt med MagSafe (INTE FÖR iPhone 15 Pro Max 6,7-Tums), Genomskinligt Matte Tillbaka Smal Stötsäker Case (Svart) | 149\n",
      "JETech Magnetisk Skal för iPhone 15 Pro 6,1-Tums för MagSafe Trådlös Laddning, Stötskyddad Telefon Bumper Case, Repfri Klar Tillbaka (Klar) | 139\n",
      "ESR Armorite skärmskydd set, kompatibel med iPhone 15 Pro, 3+2-pack | 319\n",
      "Apple Transparent skal med MagSafe till iPhone 15 ​​​​​​​ | 695\n",
      "Apple Silikonskal med MagSafe till iPhone 15 Pro Max – svart ​​​​​​​ | 695\n",
      "WIIUKA Fodral för iPhone 15, läder från Tyskland, med kortfack, extra tunt, mobiltelefonfodral med stativfunktion, svart ficka | 509\n",
      "JETech Privacy Skärmskydd för iPhone 15 Pro 6,1 Tums, Anti-Spion Härdat Glasfilm med Enkelt Installationsverktyg, 2-Pack | 129\n",
      "JETech Skärmskydd för iPhone 15 6,1 Tum, Screen Protector Härdat Glas Film med Enkelt Installation Verktyg, Fodral Vänligt, HD Klar, 3 Pack | 99\n",
      "JETech Skärmskydd för iPhone 15 Pro 6,1 Tum med Kameralinsskydd, Enkelt Installation Verktyg, Screen Protector Härdat Glas Film, HD Klar, 2-Pack Varje | 129\n",
      "JETech Skärmskydd för iPhone 15 Pro Max 6,7 Tum, Screen Protector Härdat Glas Film med Enkelt Installation Verktyg, Fodral Vänligt, HD Klar, 3 Pack | 99\n",
      "Apple Transparent skal med MagSafe till iPhone 15 Pro ​​​​​​​ | 690\n",
      "TORRO Läderfodral till iPhone 15 Pro - Plånboksfodral i Premiumläder med Stativ och Korthållare (Marinblå) | 486\n",
      "Dreem Fibonacci 2-in-1 Wallet Case for Apple iPhone 15 Pro - Luxury Vegan Leather, Magnetic Detachable Shockproof Phone Case, RFID Card Protection, Magsafe Compatible - Royal | 444\n",
      "amFilm 2+2-pack Härdat Glas för iPhone 15 2023 6.1\", OneTouch 2 Delar Skärmskydd med 2 Delar Kameralinsskydd, Kompatibelt Fodral | 105\n",
      "memumi Skal för iPhone 15 Pro Max (Three camera holes), Tjocklek 0,3 mm, Slim Fit, Matt yta [Stötbeständigt, Halkskydd, Anti-rep] Skyddskåpa Extra Tunn för iPhone 15 Pro Max 6.7\"- Trans-Svart | 169\n",
      "TORRO Läderfodral till iPhone 15 Plus -Plånboksfodral i Premiumläder med Stativ och Korthållare (Svart) | 486\n",
      "JETech Privacy Skärmskydd för iPhone 15 Pro Max 6,7 Tum med Kameralinsskydd, Enkelt Installation Verktyg, Screen Protector Privat Härdat Glas Film, 2-Pack Varje | 149\n",
      "Apple FineWoven-skal med MagSafe till iPhone 15 Plus – vintergrön ​​​​​​​ | 895\n",
      "Spigen Glas.tR EZ Fit Skärmskydd kompatibel med iPhone 15 Pro Max, 2 Stycken, med Sjabloon voor Installatiem, Case friendly, 9H härdat glas | 244\n",
      "EYZUTAK vintage läderfodral för iPhone 15 Pro-fodral, magnetlås premium PU-läder flip fodral med kortfack plånbok stativfunktion stötsäker mjuk TPU retro läderväska-svart | 170\n",
      "Apple Silikonskal med MagSafe till iPhone 15 Pro – svart ​​​​​​​ | 695\n",
      "Mouyou iPhone 15 fodral | 93\n",
      "JETech Skärmskydd för Fullständig Integritet på iPhone 15 Pro 6,1 tum, Svart Kant Screen Protector Härdat med Enkel Installation, Fodral Vänligt, 2-pack | 149\n",
      "Spigen Liquid Air Fodral kompatibel med iPhone 15 -Svart | 202\n",
      "JETech Full Täckning Skärmskydd för iPhone 15 Pro 6,1 Tum, Svart Kant Screen Protector Härdat Glas Film med Enkelt Installation Verktyg, Fodral Vänligt, HD Klar, 3 Pack | 119\n",
      "ESR Klassiskt fodral kompatibelt med iPhone 2023 Pro Max fodral, kompatibelt med MagSafe, transparent | 395\n",
      "Magnetiskt fodral för iPhone 15 Pro 6,1 tum, kompatibelt med magsafe, stötsäker militärstandard, fallskydd mobilskal, reptåligt transparent fodral för iPhone 15 Pro | 179\n",
      "Apple Transparent skal med MagSafe till iPhone 15 Pro Max ​​​​​​​ | 690\n",
      "WSKEN för iPhone 15 Pro Max 6,7 tum skärmskydd, heltäckande skärm 2,5 D kant 10 s HD härdat glasfilm med dammrengöring installera hus 2023 5G 2-pack | 404\n",
      "Apple iPhone 14 Pro 128GB Deep Purple (Renoverad) | 12799\n",
      "UGREEN Nexode USB C-laddare 65W USB C-strömadapter 3-portars GaN PD Charger PPS Kompatibel med MacBook Pro/Air, iPhone 15 Pro Max, 15, iPad Pro, Galaxy S23 Ultra, S23, S22, Steam Deck.(Svart) | 476\n",
      "Apple Transparent skal med MagSafe till iPhone 15 ​​​​​​​ | 695\n",
      "Apple Silikonskal med MagSafe till iPhone 15 – lera ​​​​​​​ | 695\n",
      "Apple Silikonskal med MagSafe till iPhone 15 Pro – vinterblå ​​​​​​​ | 695\n",
      "Apple FineWoven-skal med MagSafe till iPhone 15 – svart ​​​​​​​ | 895\n",
      "Apple Silikonskal med MagSafe till iPhone 15 Plus – apelsinsorbet ​​​​​​​ | 695\n",
      "Apple Transparent skal med MagSafe till iPhone 15 Pro ​​​​​​​ | 690\n",
      "Apple Transparent skal med MagSafe till iPhone 15 Plus ​​​​​​​ | 695\n",
      "Apple Silikonskal med MagSafe till iPhone 15 Pro Max – ljusrosa ​​​​​​​ | 695\n"
     ]
    }
   ],
   "source": [
    "csv_file_name = \"amazon_product_details.csv\"\n",
    "read_and_print_csv(csv_file_name)"
   ]
  },
  {
   "cell_type": "markdown",
   "metadata": {
    "id": "S9RwmMpRYWBT"
   },
   "source": [
    "#Task_3"
   ]
  },
  {
   "cell_type": "code",
   "execution_count": 12,
   "metadata": {
    "colab": {
     "base_uri": "https://localhost:8080/"
    },
    "id": "cADCPtDRYTXm",
    "outputId": "9d94e7c0-f60c-43c6-f288-b2fb38d45914"
   },
   "outputs": [
    {
     "name": "stdout",
     "output_type": "stream",
     "text": [
      "Weather data saved to weather_data_sweden_wunderground.txt\n"
     ]
    }
   ],
   "source": [
    "import requests\n",
    "from bs4 import BeautifulSoup\n",
    "\n",
    "# Define a function to scrape weather data from a website\n",
    "def scrape_weather_data(url):\n",
    "    try:\n",
    "        # Send a request to the website\n",
    "        response = requests.get(url)\n",
    "        response.raise_for_status()  # Raise an exception for HTTP errors\n",
    "\n",
    "        # Parse the HTML content\n",
    "        soup = BeautifulSoup(response.content, \"html.parser\")\n",
    "\n",
    "        # Find and extract the relevant weather information \n",
    "        weather_info = soup.find(\"span\", class_=\"test-true wu-unit wu-unit-temperature is-degree-visible ng-star-inserted\").text.strip()\n",
    "\n",
    "        return weather_info\n",
    "\n",
    "    except requests.exceptions.RequestException as e:\n",
    "        print(f\"Error: {e}\")\n",
    "        return None\n",
    "    except Exception as e:\n",
    "        print(f\"An error occurred: {e}\")\n",
    "        return None\n",
    "\n",
    "# Define a list of place names and their corresponding URLs\n",
    "places_in_sweden = {\n",
    "    \"Lund\": \"https://www.wunderground.com/weather/se/Lund\",\n",
    "    \"Stockholm\": \"https://www.wunderground.com/weather/se/Stockholm\",\n",
    "    \"Gothenburg\": \"https://www.wunderground.com/weather/se/Gothenburg\",\n",
    "    \"Malmo\": \"https://www.wunderground.com/weather/se/Malmo\",\n",
    "    \"Uppsala\": \"https://www.wunderground.com/weather/se/Uppsala\",\n",
    "}\n",
    "\n",
    "# Initialize a dictionary to store weather data for each place\n",
    "weather_data = {}\n",
    "\n",
    "# Iterate through the places and scrape weather data\n",
    "for place, url in places_in_sweden.items():\n",
    "    weather_info = scrape_weather_data(url)\n",
    "    if weather_info:\n",
    "        weather_data[place] = weather_info\n",
    "\n",
    "# Save the scraped data to a local text file\n",
    "try:\n",
    "    with open(\"weather_data_sweden_wunderground.txt\", \"w\", encoding=\"utf-8\") as file:\n",
    "        for place, data in weather_data.items():\n",
    "            file.write(f\"Place: {place}\\n\")\n",
    "            file.write(f\"Weather Data:{data}\\n\\n\")\n",
    "\n",
    "    print(\"Weather data saved to weather_data_sweden_wunderground.txt\")\n",
    "except Exception as e:\n",
    "    print(f\"An error occurred while saving the data: {e}\")\n"
   ]
  },
  {
   "cell_type": "code",
   "execution_count": 13,
   "metadata": {
    "colab": {
     "base_uri": "https://localhost:8080/"
    },
    "id": "OdBrmO0-YUXW",
    "outputId": "45863aff-4e82-429c-a321-a918a078ace9"
   },
   "outputs": [
    {
     "name": "stdout",
     "output_type": "stream",
     "text": [
      "Place: Lund\n",
      "Weather Data:89 °FSunny\n",
      "\n",
      "Place: Stockholm\n",
      "Weather Data:90 °FSunny\n",
      "\n",
      "Place: Gothenburg\n",
      "Weather Data:89 °FSunny\n",
      "\n",
      "Place: Malmo\n",
      "Weather Data:90 °FSunny\n",
      "\n",
      "Place: Uppsala\n",
      "Weather Data:89 °FSunny\n",
      "\n",
      "\n"
     ]
    }
   ],
   "source": [
    "# Open the saved file and print its content\n",
    "try:\n",
    "    with open(\"weather_data_sweden_wunderground.txt\", \"r\", encoding=\"utf-8\") as file:\n",
    "        file_contents = file.read()\n",
    "        print(file_contents)\n",
    "except FileNotFoundError:\n",
    "    print(\"The file weather_data_sweden_wunderground.txt was not found.\")\n",
    "except Exception as e:\n",
    "    print(f\"An error occurred: {e}\")\n"
   ]
  },
  {
   "cell_type": "code",
   "execution_count": 14,
   "metadata": {
    "colab": {
     "base_uri": "https://localhost:8080/"
    },
    "id": "Lje0HvckYgFT",
    "outputId": "290e4151-0560-4015-daab-8dafaa0e605f"
   },
   "outputs": [
    {
     "name": "stdout",
     "output_type": "stream",
     "text": [
      "Error: 404 Client Error: Not Found for url: https://www.timeanddate.com/weather/sweden/gothenburg\n",
      "Error: 404 Client Error: Not Found for url: https://www.timeanddate.com/weather/sweden/borlange\n",
      "Weather data saved to weather_data_sweden_timeanddate.txt\n"
     ]
    }
   ],
   "source": [
    "import requests\n",
    "from bs4 import BeautifulSoup\n",
    "\n",
    "# Define a function to scrape weather data from a website\n",
    "def scrape_weather_data(url):\n",
    "    try:\n",
    "        # Send a request to the website\n",
    "        response = requests.get(url)\n",
    "        response.raise_for_status()  # Raise an exception for HTTP errors\n",
    "\n",
    "        # Parse the HTML content\n",
    "        soup = BeautifulSoup(response.content, \"html.parser\")\n",
    "\n",
    "        # Find and extract the relevant weather information \n",
    "        weather_info = soup.find(\"div\", class_=\"h2\").text.strip()\n",
    "\n",
    "        return weather_info\n",
    "\n",
    "    except requests.exceptions.RequestException as e:\n",
    "        print(f\"Error: {e}\")\n",
    "        return None\n",
    "    except Exception as e:\n",
    "        print(f\"An error occurred: {e}\")\n",
    "        return None\n",
    "\n",
    "# Define a dictionary of place names and their corresponding URLs\n",
    "places_in_sweden = {\n",
    "    \"Lund\": \"https://www.timeanddate.com/weather/sweden/lund\",\n",
    "    \"Stockholm\": \"https://www.timeanddate.com/weather/sweden/stockholm\",\n",
    "    \"Gothenburg\": \"https://www.timeanddate.com/weather/sweden/gothenburg\",\n",
    "    \"Malmo\": \"https://www.timeanddate.com/weather/sweden/malmo\",\n",
    "    \"Borlänge\": \"https://www.timeanddate.com/weather/sweden/borlange\",\n",
    "}\n",
    "\n",
    "# Initialize a dictionary to store weather data for each place\n",
    "weather_data = {}\n",
    "\n",
    "# Iterate through the places and scrape weather data\n",
    "for place, url in places_in_sweden.items():\n",
    "    weather_info = scrape_weather_data(url)\n",
    "    if weather_info:\n",
    "        weather_data[place] = weather_info\n",
    "    else:\n",
    "        weather_data[place] = \"No data found\"\n",
    "\n",
    "# Save the scraped data to a local text file\n",
    "try:\n",
    "    with open(\"weather_data_sweden_timeanddate.txt\", \"w\", encoding=\"utf-8\") as file:\n",
    "        for place, data in weather_data.items():\n",
    "            file.write(f\"Place: {place}\\n\")\n",
    "            file.write(f\"Weather Data:{data}\\n\\n\")\n",
    "\n",
    "    print(\"Weather data saved to weather_data_sweden_timeanddate.txt\")\n",
    "except Exception as e:\n",
    "    print(f\"An error occurred while saving the data: {e}\")\n"
   ]
  },
  {
   "cell_type": "code",
   "execution_count": 15,
   "metadata": {
    "colab": {
     "base_uri": "https://localhost:8080/"
    },
    "id": "TIZopVEoYpIH",
    "outputId": "6ff2454a-7b2b-4eb9-ed73-c4cdede97946"
   },
   "outputs": [
    {
     "name": "stdout",
     "output_type": "stream",
     "text": [
      "Place: Lund\n",
      "Weather Data:16 °C\n",
      "\n",
      "Place: Stockholm\n",
      "Weather Data:14 °C\n",
      "\n",
      "Place: Gothenburg\n",
      "Weather Data:No data found\n",
      "\n",
      "Place: Malmo\n",
      "Weather Data:16 °C\n",
      "\n",
      "Place: Borlänge\n",
      "Weather Data:No data found\n",
      "\n",
      "\n"
     ]
    }
   ],
   "source": [
    "# Open the saved file and print its content\n",
    "try:\n",
    "    with open(\"weather_data_sweden_timeanddate.txt\", \"r\", encoding=\"utf-8\") as file:\n",
    "        file_contents = file.read()\n",
    "        print(file_contents)\n",
    "except FileNotFoundError:\n",
    "    print(\"The file weather_data_sweden_timeanddate.txt was not found.\")\n",
    "except Exception as e:\n",
    "    print(f\"An error occurred: {e}\")\n"
   ]
  },
  {
   "cell_type": "code",
   "execution_count": null,
   "metadata": {
    "id": "bKQKclJYYtM7"
   },
   "outputs": [],
   "source": []
  }
 ],
 "metadata": {
  "colab": {
   "collapsed_sections": [
    "5-lobKwejyrE",
    "M3mfYkhej21P"
   ],
   "provenance": []
  },
  "kernelspec": {
   "display_name": "Python 3 (ipykernel)",
   "language": "python",
   "name": "python3"
  },
  "language_info": {
   "codemirror_mode": {
    "name": "ipython",
    "version": 3
   },
   "file_extension": ".py",
   "mimetype": "text/x-python",
   "name": "python",
   "nbconvert_exporter": "python",
   "pygments_lexer": "ipython3",
   "version": "3.9.7"
  }
 },
 "nbformat": 4,
 "nbformat_minor": 1
}
